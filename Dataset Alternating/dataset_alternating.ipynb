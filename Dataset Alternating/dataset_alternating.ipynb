{
 "cells": [
  {
   "cell_type": "code",
   "execution_count": 1,
   "id": "0910c4fe",
   "metadata": {},
   "outputs": [],
   "source": [
    "import pandas as pd\n",
    "from tqdm import tqdm"
   ]
  },
  {
   "cell_type": "code",
   "execution_count": null,
   "id": "e858c31a",
   "metadata": {},
   "outputs": [],
   "source": [
    "# Load your data\n",
    "df = pd.read_csv('final_dataset.csv')\n",
    "\n",
    "# Separate rows with classLabelPhishing = 1 and classLabelPhishing = 0\n",
    "df1 = df[df.classLabelPhishing == 1]\n",
    "df0 = df[df.classLabelPhishing == 0]\n",
    "\n",
    "# Ensure that df0 and df1 have the same number of rows. If not, trim the larger one.\n",
    "min_len = min(len(df0), len(df1))\n",
    "df0 = df0.iloc[:min_len].reset_index(drop=True)\n",
    "df1 = df1.iloc[:min_len].reset_index(drop=True)\n",
    "\n",
    "# Prepare a list to store the dataframes\n",
    "dfs_to_concat = []\n",
    "\n",
    "# Append rows from df0 and df1 alternately to a list\n",
    "for i in tqdm(range(min_len)):  # wrap with tqdm for a progress bar\n",
    "    dfs_to_concat.append(df0.iloc[[i]])\n",
    "    dfs_to_concat.append(df1.iloc[[i]])\n",
    "\n",
    "# Concatenate all dataframes in the list\n",
    "df_alternating = pd.concat(dfs_to_concat)\n",
    "\n",
    "# Reset index\n",
    "df_alternating = df_alternating.reset_index(drop=True)\n",
    "\n",
    "# Save the result\n",
    "df_alternating.to_csv('final_dataset_alternating.csv', index=False)\n"
   ]
  }
 ],
 "metadata": {
  "kernelspec": {
   "display_name": "Python 3 (ipykernel)",
   "language": "python",
   "name": "python3"
  },
  "language_info": {
   "codemirror_mode": {
    "name": "ipython",
    "version": 3
   },
   "file_extension": ".py",
   "mimetype": "text/x-python",
   "name": "python",
   "nbconvert_exporter": "python",
   "pygments_lexer": "ipython3",
   "version": "3.7.16"
  }
 },
 "nbformat": 4,
 "nbformat_minor": 5
}
